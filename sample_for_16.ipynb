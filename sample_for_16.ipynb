{
 "cells": [
  {
   "cell_type": "code",
   "execution_count": 2,
   "metadata": {},
   "outputs": [
    {
     "name": "stderr",
     "output_type": "stream",
     "text": [
      "c:\\users\\kowkat\\appdata\\local\\continuum\\miniconda3\\envs\\qutip\\lib\\site-packages\\qutip\\__init__.py:161: UserWarning: matplotlib not found: Graphics will not work.\n",
      "  warnings.warn(\"matplotlib not found: Graphics will not work.\")\n"
     ]
    }
   ],
   "source": [
    "import qutip\n",
    "import copy\n",
    "import numpy\n",
    "import cmath\n",
    "import gmpy2\n",
    "from qutip import *\n",
    "from cmath import *\n",
    "from numpy import *\n",
    "from gmpy2 import *"
   ]
  },
  {
   "cell_type": "code",
   "execution_count": 3,
   "metadata": {},
   "outputs": [],
   "source": [
    "#Gate dictionary for calculating circuits\n",
    "#Includes Clifford + T gates \n",
    "\n",
    "#we use 128 bit precision\n",
    "\n",
    "with gmpy2.ieee(128) as ctx:\n",
    "    X=matrix([[0, 1], [1, 0]])\n",
    "    Z=matrix([[1,0],[0,-1]])\n",
    "    Y=1j*dot(X, Z)\n",
    "    H=1/sqrt(2)*matrix([[1, 1], [1, -1]])\n",
    "    T=matrix([[1, 0],[0, exp(pi/4*1j)]])\n",
    "    P=matrix([[1, 0],[0, exp(pi/2*1j)]])\n",
    "    dT=matrix([[1, 0],[0, exp(-pi/4*1j)]])\n",
    "    rz32=eye(2)*cos(pi/32)-1j*sin(pi/32)*Z\n",
    "    rz32d=eye(2)*cos(pi/32)+1j*sin(pi/32)*Z\n",
    "    rz16=eye(2)*cos(pi/16)-1j*sin(pi/16)*Z\n",
    "    rz16d=eye(2)*cos(pi/16)+1j*sin(pi/16)*Z  \n",
    "    rz64=eye(2)*cos(pi/64)-1j*sin(pi/64)*Z\n",
    "    rz64d=eye(2)*cos(pi/64)+1j*sin(pi/64)*Z\n",
    "    rz256=eye(2)*cos(pi/256)-1j*sin(pi/256)*Z\n",
    "    rz256d=eye(2)*cos(pi/256)+1j*sin(pi/256)*Z \n",
    "    dP=matrix([[1, 0],[0, exp(-pi/2*1j)]])\n",
    "    Id=eye(2)\n",
    "    I=Id\n",
    "dict={'X ':X, 'Z ': Z, 'T ':T, 'P ':P, 'T* ':dT, 'H ':H,'P* ':dP, 'Id ':Id}"
   ]
  },
  {
   "cell_type": "code",
   "execution_count": 6,
   "metadata": {},
   "outputs": [
    {
     "data": {
      "text/plain": [
       "'32_3.txt'"
      ]
     },
     "execution_count": 6,
     "metadata": {},
     "output_type": "execute_result"
    }
   ],
   "source": [
    "# In the current directory we place the files with generated circuits: \n",
    "# Here we have files for the rz pi/16 rotations containing '32' in their name\n",
    "# We store their names in a list for further use\n",
    "\n",
    "data=[]\n",
    "import glob\n",
    "for file in glob.glob(\"*32*.txt\"):\n",
    "    data.append(file)\n",
    "    "
   ]
  },
  {
   "cell_type": "code",
   "execution_count": 11,
   "metadata": {},
   "outputs": [
    {
     "name": "stdout",
     "output_type": "stream",
     "text": [
      "0.000392539543490424445159221163439033227 1.27365082125914138085245484607252738e-07 0.000195339823142446115202583847771647273\n",
      "1.34267110600872162247175571278073505e-05 1.68041892425364525168270230346513546e-10 6.71056306417031389806232675494542105e-06\n",
      "6.39711897782148903320102511150478673e-07 4.50269346472503099564532758904599814e-13 3.28198152312072429814368097174098474e-07\n",
      "2.71863804872610063892725865895747644e-10 8.75587707931622240282658412331304799e-20 1.59336785874802385037812536934475293e-10\n",
      "2.31943777569677956257282685394644186e-14 6.87176671927508858192523290065647071e-28 1.27924104914960927036002077557258396e-14\n"
     ]
    }
   ],
   "source": [
    "# For each file we carry out circuit calculation and estimate the errors in unitaries as well as in observables\n",
    "\n",
    "for file in data:\n",
    "    f=open(file, 'r')\n",
    "    l=f.readlines()\n",
    "    n_l=l[l.index('BEGIN RZ1d32(1)\\n')+1:l.index('END RZ1d32\\n')]\n",
    "    n_l=[s.strip('1\\n') for s in n_l]\n",
    "    circ=[]\n",
    "    U1=1\n",
    "    for i in n_l:\n",
    "        circ.append(dict[i])\n",
    "    \n",
    "    for i in range(len(circ)):\n",
    "        U1=dot(U1,circ[i])    \n",
    "    \n",
    "    dis=[]\n",
    "    dis_d=[]\n",
    "    \n",
    "    #we want to repeat the calculations with different hermitian operators\n",
    "    for j in range(100):\n",
    "        oper=rand_herm(2)\n",
    "\n",
    "        #we want to compare diagonal operators and any operator: the squared error is only observed in diagonal operators (???)\n",
    "        #we search for a diagonal hermitian operator\n",
    "        oper_d=rand_herm(2)\n",
    "        while (oper_d.data[0,1]!=0):\n",
    "            while(oper_d.data[1,0]!=0):\n",
    "                operd=rand_herm(2)\n",
    "                \n",
    "        op=matrix([[oper.data[0,0],oper.data[0,1]], [oper.data[1,0], oper.data[1,1]]])\n",
    "        op_d=matrix([[oper_d.data[0,0],oper_d.data[0,1]], [oper_d.data[1,0], oper_d.data[1,1]]])\n",
    "        \n",
    "        #we generate basis state: we want to consider ground states only\n",
    "        qubit=basis(2,0)\n",
    "        qubitin=qubit\n",
    "        nq=array([[qubit.data[0,0]],[qubit.data[1,0]]])\n",
    "        nqi=nq\n",
    "        \n",
    "        #we apply approximating circuit to the 0 ket\n",
    "        nq=array(U1*nqi)\n",
    "        knq=nq.transpose()\n",
    "        knq=[real(knq[0,0])-imag(knq[0,0])*1j,real(knq[0,1])-imag(knq[0,1])*1j]\n",
    "\n",
    "        #we apply exact rotation to the 0 ket\n",
    "        qbf=rz32*nqi\n",
    "        kqbf=qbf.transpose()\n",
    "        kqbf=[real(kqbf[0,0])-imag(kqbf[0,0])*1j,real(kqbf[0,1])-imag(kqbf[0,1])*1j]\n",
    "        \n",
    "        # we calculate the expectation values for four cases: the diagonal operator with exact state and approximated state\n",
    "        # and the non diagonal operator with exact state and the approximated state \n",
    "        e_es_d=knq*op_d*nq\n",
    "        e_ex_d=kqbf*op_d*qbf\n",
    "        err_d=abs(e_es_d-e_ex_d)\n",
    "        \n",
    "        \n",
    "        e_es=knq*op*nq\n",
    "        e_ex=kqbf*op*qbf\n",
    "        err=abs(e_es-e_ex)\n",
    "        \n",
    "        #we keep the errors of each iteration in a table\n",
    "        dis.append(err)\n",
    "        dis_d.append(err_d)\n",
    "        \n",
    "    # we average the error over 100 measurments\n",
    "    erravg=sum(dis)/len(dis)\n",
    "    erravg_d=sum(disd)/len(disd)\n",
    "        \n",
    "    a=abs(trace(U1*rz32d))\n",
    "    d=sqrt(1-a/2)\n",
    "    print(str(d)+' '+str(erravg_d)+' '+ str(erravg))"
   ]
  },
  {
   "cell_type": "code",
   "execution_count": null,
   "metadata": {},
   "outputs": [],
   "source": []
  }
 ],
 "metadata": {
  "kernelspec": {
   "display_name": "Python 3",
   "language": "python",
   "name": "python3"
  },
  "language_info": {
   "codemirror_mode": {
    "name": "ipython",
    "version": 3
   },
   "file_extension": ".py",
   "mimetype": "text/x-python",
   "name": "python",
   "nbconvert_exporter": "python",
   "pygments_lexer": "ipython3",
   "version": "3.7.2"
  }
 },
 "nbformat": 4,
 "nbformat_minor": 2
}
